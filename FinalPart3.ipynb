{
 "cells": [
  {
   "cell_type": "code",
   "execution_count": 79,
   "metadata": {},
   "outputs": [],
   "source": [
    "%matplotlib inline\n",
    "import pandas as pd\n",
    "import matplotlib\n",
    "import matplotlib.pyplot as plt\n",
    "import numpy as np\n",
    "import bqplot\n",
    "import geopandas\n",
    "import ipywidgets\n",
    "from ipywidgets import interact, interactive, fixed, interact_manual\n",
    "from IPython.display import Image"
   ]
  },
  {
   "cell_type": "code",
   "execution_count": 80,
   "metadata": {},
   "outputs": [
    {
     "data": {
      "text/html": [
       "<img src=\"https://orlandoinformer.com/wp-content/uploads/2016/07/Pokemon-collage.png\"/>"
      ],
      "text/plain": [
       "<IPython.core.display.Image object>"
      ]
     },
     "execution_count": 80,
     "metadata": {},
     "output_type": "execute_result"
    }
   ],
   "source": [
    "Image(url= \"https://orlandoinformer.com/wp-content/uploads/2016/07/Pokemon-collage.png\")"
   ]
  },
  {
   "cell_type": "markdown",
   "metadata": {},
   "source": [
    "# Playing with Pokemon Stats!\n",
    "### Author: Tyler Zweig"
   ]
  },
  {
   "cell_type": "markdown",
   "metadata": {},
   "source": [
    "First we load in our Pokemon dataset! This data was found at: https://www.kaggle.com/rounakbanik/pokemon"
   ]
  },
  {
   "cell_type": "code",
   "execution_count": 70,
   "metadata": {},
   "outputs": [],
   "source": [
    "pokemon = pd.read_csv(\"pokemon.csv\")"
   ]
  },
  {
   "cell_type": "markdown",
   "metadata": {},
   "source": [
    "## Video Game Backround:"
   ]
  },
  {
   "cell_type": "markdown",
   "metadata": {},
   "source": [
    "The Pokemon video games have been and remained some of Nintendo's most popular games since the games first debut in 1996! Since then the world of pokemon has insipred 122 games to date! Most of these games are turned based role playing games that take place in the fictional world of pokemon based on the original anime. In these games, the player sets out on their own unique adventure to become the champion of the pokemon league of the region that game takes place in. Every game showcases a new region with a new league to win, as well as new pokemon to catch. To become the league champion, the player has to use their pokemon to battle their way to the top! The player is allowed 6 pokemon at a time to battle with, which the player must catch themselves! A player wins battles by using their pokemon to fight their opponents until the all of the opponents pokemon run out of health and faint. Each pokemon can have up to 4 moves at a time to inflict damage or buff their stats. The world of pokemon is vast and as more games come out, the more options players have when putting together a team to take to the top with them. Each pokemon has their own unique look and moves for battle based on their typing and level, which can make the choice of assembling a team difficult due to there being so many options to consider. No one pokemon is suited for every battle situation, therfore assembling a good team is imperative to advancing through these games. While each pokemon is different, they all can be compared by their base statistics. Every pokemon has a baseline for the statistics that affect their battle performace in-game, which can be increased with leveling and evolution. There are 6 statistics that determine how strong a pokemon is. \n",
    "\n",
    "- HP - health points, the numerical value to deplete in order for a pokemon to faint.\n",
    "- Attack - multiplyer for how strong a physical attack is on opponents HP.\n",
    "- Special Attack - multipyer for how strong a non-physical attack is on opponents HP.\n",
    "- Defense - multiplyer for how retaining physical damage affects own HP.\n",
    "- Speacial Defense - multiplyer for how retaining non-physical damage affects own HP.\n",
    "- Speed - determines which pokemon will strike first.\n",
    "\n",
    "Since all pokemon have differeing values for each of these statistics, they make a good basis for comparison when trying to determine which pokemon is right for your team. Each pokemon can be further categorized by their typing, such as fire or water, which determines which moves they can learn for battles. Typing also determines a pokemon's effectiveness against other typings. For example, a water attack is super effective against a fire type pokemon, and will deal double damage. a fire attack is not very effective against a water type pokemon, and will only deal half damage (check image below to see full effect chart). Having pokemon of different typings on your team is a must in order to become a league champion!"
   ]
  },
  {
   "cell_type": "markdown",
   "metadata": {},
   "source": [
    "## Effect Matrix Chart:"
   ]
  },
  {
   "cell_type": "code",
   "execution_count": 82,
   "metadata": {},
   "outputs": [
    {
     "data": {
      "text/html": [
       "<img src=\"https://img.rankedboost.com/wp-content/uploads/2018/10/Pokemon-Lets-Go-Type-Chart.jpg\"/>"
      ],
      "text/plain": [
       "<IPython.core.display.Image object>"
      ]
     },
     "execution_count": 82,
     "metadata": {},
     "output_type": "execute_result"
    }
   ],
   "source": [
    "Image(url=\"https://img.rankedboost.com/wp-content/uploads/2018/10/Pokemon-Lets-Go-Type-Chart.jpg\")"
   ]
  },
  {
   "cell_type": "markdown",
   "metadata": {},
   "source": [
    "## Interactive Comparison:"
   ]
  },
  {
   "cell_type": "markdown",
   "metadata": {},
   "source": [
    "Since certain typings are better suited for some scenarios than others, it is hard to directly compare pokemon of different typings by their base statistics. However, I have found that looking at base statistics can be helpful when trying to differentiate pokemon of the same typing. Below is an interactive visual that I hope can help compare some of the in-game statistics to guide players to create a strong team. The first graph shows every pokemon of the specified typing by their base statistic total, which is all their base stats summed up. Use the first dropdown to change the selected type. The second graph is a scatter plot that is meant to help make generalizations about the pokemon of the specified type by allowing the comparison of the differing base statistics. Lastly, the last 2 dropdown menus contain the name of every pokemon of the selected type. Use this to directly compare the base stats of 2 pokemon of the same typing."
   ]
  },
  {
   "cell_type": "code",
   "execution_count": 81,
   "metadata": {
    "tags": [
     "hide-input"
    ]
   },
   "outputs": [
    {
     "data": {
      "application/vnd.jupyter.widget-view+json": {
       "model_id": "b1d8dfb999244992859eab6246e33471",
       "version_major": 2,
       "version_minor": 0
      },
      "text/plain": [
       "interactive(children=(Dropdown(description='select_type', options=('grass', 'fire', 'water', 'bug', 'normal', …"
      ]
     },
     "metadata": {},
     "output_type": "display_data"
    }
   ],
   "source": [
    "@ipywidgets.interact(select_type = pokemon['type1'].unique())\n",
    "\n",
    "def base(select_type):\n",
    "    \n",
    "    typegrab = pokemon[pokemon['type1']== select_type]\n",
    "    \n",
    "    b = typegrab.plot(x = \"name\", y= \"base_total\", figsize=(20,5), kind = 'bar')\n",
    "    b\n",
    "    \n",
    "    stats = typegrab.get(['hp','speed','attack','defense', 'sp_attack','sp_defense'])\n",
    "    \n",
    "    @ipywidgets.interact(x_stat=stats.columns, y_stat=stats.columns)\n",
    "    \n",
    "    def make_plot(x_stat, y_stat):\n",
    "        fig = plt.figure(figsize=(20,5))\n",
    "            \n",
    "        plt.scatter(x = typegrab[x_stat],\n",
    "                    y = typegrab[y_stat])\n",
    "        \n",
    "        plt.xlabel(x_stat)\n",
    "        plt.ylabel(y_stat)\n",
    "        plt.title('Stat Comparison for ' + select_type + ' Type Pokemon')\n",
    "        plt.show()\n",
    "        return\n",
    "    \n",
    "    @ipywidgets.interact(select_name1 = typegrab['name'].unique(), select_name2 = typegrab['name'].unique())\n",
    "    \n",
    "    def name(select_name1, select_name2):\n",
    "        \n",
    "        namegrab = pokemon[pokemon['name']== select_name1]\n",
    "        group = namegrab.get(['hp','speed','attack','defense', 'sp_attack','sp_defense'])\n",
    "        plot = group.plot(kind='bar')\n",
    "        plt.xlabel('Pokedex Number')\n",
    "        plt.ylabel('Base Stat Value')\n",
    "        plt.title('Base Stats for ' + select_name1)\n",
    "        \n",
    "        namegrab2 = pokemon[pokemon['name']== select_name2]\n",
    "        group2 = namegrab2.get(['hp','speed','attack','defense', 'sp_attack','sp_defense'])\n",
    "        plot = group2.plot(kind='bar')\n",
    "        plt.xlabel('Pokedex Number')\n",
    "        plt.ylabel('Base Stat Value')\n",
    "        plt.title('Base Stats for ' + select_name2) "
   ]
  },
  {
   "cell_type": "markdown",
   "metadata": {},
   "source": [
    "Hopefully this is beneficial to those who are having trouble choosing between two pokemon of the same type! However it is important to note that personal preference plays into pokemon selction just as much as their statistics! There's nothing wrong with choosing a less statistically advantaged pokemon just because they look cool!"
   ]
  },
  {
   "cell_type": "markdown",
   "metadata": {},
   "source": [
    "## Legendary Pokemon!"
   ]
  },
  {
   "cell_type": "markdown",
   "metadata": {},
   "source": [
    "Legendary pokemon are quite different from the rest. While you can find most pokemon out in the wild, legendary pokemon usually can only be found in a special location that a player won't reach until later in the games timeline. Regular pokemon that can be caught in the wild can be encountered many times, but each legendary can only be encountered once, making them much more difficult to acquire than the others. Legendaries also have much higher base stats than regular pokemon, making them extremely useful companions as the game progressivly gets more difficult upon facing higher level pokemon. It is also worth noting that most legendaries just look really cool, and the games tend to feel incomplete if you don't capture all the legendaries available. The legendaries available to catch vary by the generation of the game being played. The interactive visual below is meant to be a fun way to compare these pokemon by generation. The first dropdown specifies which generation the legendaries are from, and the second plot allows for the comparison of that generations base statistics. These plots aren't all that helpful in choosing a legendary for your team because they should all be considered, however if one's determining factor on which game to play is a games legendaries, hopefully this visual can help."
   ]
  },
  {
   "cell_type": "code",
   "execution_count": 85,
   "metadata": {},
   "outputs": [
    {
     "data": {
      "application/vnd.jupyter.widget-view+json": {
       "model_id": "42841a2e7f6d4d77ad156286dd6d9a63",
       "version_major": 2,
       "version_minor": 0
      },
      "text/plain": [
       "interactive(children=(Dropdown(description='generation', options=(1, 2, 3, 4, 5, 6, 7), value=1), Output()), _…"
      ]
     },
     "metadata": {},
     "output_type": "display_data"
    }
   ],
   "source": [
    "legendgrab = pokemon[pokemon['is_legendary']== 1]\n",
    "\n",
    "@ipywidgets.interact(generation= legendgrab['generation'].unique())\n",
    "\n",
    "def byGen(generation):\n",
    "    \n",
    "    gengrab = legendgrab[legendgrab['generation']== generation]\n",
    "    \n",
    "    lplot = gengrab.plot(x = \"name\", y= \"base_total\", figsize=(20,5), kind = 'bar')\n",
    "    lplot\n",
    "    \n",
    "    stats = gengrab.get(['hp','speed','attack','defense', 'sp_attack','sp_defense'])\n",
    "    \n",
    "    @ipywidgets.interact(x_stat=stats.columns, y_stat=stats.columns)\n",
    "    \n",
    "    def make_plot(x_stat, y_stat):\n",
    "        fig = plt.figure(figsize=(20,5))\n",
    "            \n",
    "        plt.scatter(x = legendgrab[x_stat],\n",
    "                    y = legendgrab[y_stat])\n",
    "        \n",
    "        plt.xlabel(x_stat)\n",
    "        plt.ylabel(y_stat)\n",
    "        plt.title('Stat Comparison for Legendary Pokemon')\n",
    "        plt.show()"
   ]
  },
  {
   "cell_type": "markdown",
   "metadata": {},
   "source": [
    "To those looking to playing pokemon video games I hope this is helpful! It is worth noting that not all pokemon are available in each game, especially earlier games. \n",
    "\n",
    "A better look at the effect chart can be found here: https://rankedboost.com/pokemon-lets-go/type-chart/\n",
    "\n",
    "A much more in depth look at the specifics of each pokemon can be found here: https://bulbapedia.bulbagarden.net/wiki/Main_Page"
   ]
  },
  {
   "cell_type": "code",
   "execution_count": null,
   "metadata": {},
   "outputs": [],
   "source": []
  }
 ],
 "metadata": {
  "kernelspec": {
   "display_name": "Python 3",
   "language": "python",
   "name": "python3"
  },
  "language_info": {
   "codemirror_mode": {
    "name": "ipython",
    "version": 3
   },
   "file_extension": ".py",
   "mimetype": "text/x-python",
   "name": "python",
   "nbconvert_exporter": "python",
   "pygments_lexer": "ipython3",
   "version": "3.8.5"
  }
 },
 "nbformat": 4,
 "nbformat_minor": 4
}
